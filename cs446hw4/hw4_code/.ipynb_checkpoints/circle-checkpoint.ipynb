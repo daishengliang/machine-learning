{
 "cells": [
  {
   "cell_type": "code",
   "execution_count": 1,
   "metadata": {
    "collapsed": true
   },
   "outputs": [],
   "source": [
    "import NN, data_loader, perceptron\n",
    "import matplotlib.pyplot as plt\n"
   ]
  },
  {
   "cell_type": "code",
   "execution_count": 2,
   "metadata": {
    "collapsed": true
   },
   "outputs": [],
   "source": [
    "training_data, test_data = data_loader.load_circle_data()\n",
    "\n",
    "domain = 'circles'\n",
    "batch_size = 10\n",
    "learning_rate = 0.1\n",
    "activation_function = 'relu'\n",
    "data_dim = len(training_data[0][0])\n",
    "\n",
    "# params\n",
    "batch_size = [10, 50, 100]\n",
    "learning_rate = [0.1, 0.01]\n",
    "activation_function = ['tanh', 'relu']\n",
    "units_in_each_hidden_layer = [10, 50]\n",
    "fold = 5"
   ]
  },
  {
   "cell_type": "code",
   "execution_count": 3,
   "metadata": {
    "collapsed": true
   },
   "outputs": [],
   "source": [
    "def k_fold(X, k_fold, i):\n",
    "    size = int(len(X) / k_fold)  \n",
    "    X_train = X[:i * size] + X[(i + 1) * size:]\n",
    "    X_valid = X[i * size : (i+1) * size]\n",
    "    return X_train, X_valid"
   ]
  },
  {
   "cell_type": "code",
   "execution_count": 4,
   "metadata": {
    "collapsed": false
   },
   "outputs": [
    {
     "name": "stdout",
     "output_type": "stream",
     "text": [
      "b: 10, l: 0.1, a: tanh, u: 10\n",
      "average acc on train: 100.0\n",
      "average acc on valid: 100.0\n",
      "b: 10, l: 0.1, a: tanh, u: 50\n",
      "average acc on train: 100.0\n",
      "average acc on valid: 100.0\n",
      "b: 10, l: 0.1, a: relu, u: 10\n",
      "average acc on train: 100.0\n",
      "average acc on valid: 100.0\n",
      "b: 10, l: 0.1, a: relu, u: 50\n",
      "average acc on train: 100.0\n",
      "average acc on valid: 100.0\n",
      "b: 10, l: 0.01, a: tanh, u: 10\n",
      "average acc on train: 73.84375\n",
      "average acc on valid: 71.75\n",
      "b: 10, l: 0.01, a: tanh, u: 50\n",
      "average acc on train: 83.0\n",
      "average acc on valid: 82.125\n",
      "b: 10, l: 0.01, a: relu, u: 10\n",
      "average acc on train: 100.0\n",
      "average acc on valid: 100.0\n",
      "b: 10, l: 0.01, a: relu, u: 50\n",
      "average acc on train: 100.0\n",
      "average acc on valid: 100.0\n",
      "b: 50, l: 0.1, a: tanh, u: 10\n",
      "average acc on train: 88.625\n",
      "average acc on valid: 88.0\n",
      "b: 50, l: 0.1, a: tanh, u: 50\n",
      "average acc on train: 93.125\n",
      "average acc on valid: 92.625\n",
      "b: 50, l: 0.1, a: relu, u: 10\n",
      "average acc on train: 100.0\n",
      "average acc on valid: 100.0\n",
      "b: 50, l: 0.1, a: relu, u: 50\n",
      "average acc on train: 100.0\n",
      "average acc on valid: 100.0\n",
      "b: 50, l: 0.01, a: tanh, u: 10\n",
      "average acc on train: 54.375\n",
      "average acc on valid: 50.375\n",
      "b: 50, l: 0.01, a: tanh, u: 50\n",
      "average acc on train: 54.28125\n",
      "average acc on valid: 50.75\n",
      "b: 50, l: 0.01, a: relu, u: 10\n",
      "average acc on train: 93.875\n",
      "average acc on valid: 93.875\n",
      "b: 50, l: 0.01, a: relu, u: 50\n",
      "average acc on train: 100.0\n",
      "average acc on valid: 100.0\n",
      "b: 100, l: 0.1, a: tanh, u: 10\n",
      "average acc on train: 77.25\n",
      "average acc on valid: 75.375\n",
      "b: 100, l: 0.1, a: tanh, u: 50\n",
      "average acc on train: 81.375\n",
      "average acc on valid: 81.375\n",
      "b: 100, l: 0.1, a: relu, u: 10\n",
      "average acc on train: 100.0\n",
      "average acc on valid: 100.0\n",
      "b: 100, l: 0.1, a: relu, u: 50\n",
      "average acc on train: 100.0\n",
      "average acc on valid: 100.0\n",
      "b: 100, l: 0.01, a: tanh, u: 10\n",
      "average acc on train: 52.96875\n",
      "average acc on valid: 49.25\n",
      "b: 100, l: 0.01, a: tanh, u: 50\n",
      "average acc on train: 54.4375\n",
      "average acc on valid: 50.5\n",
      "b: 100, l: 0.01, a: relu, u: 10\n",
      "average acc on train: 92.96875\n",
      "average acc on valid: 92.5\n",
      "b: 100, l: 0.01, a: relu, u: 50\n",
      "average acc on train: 95.84375\n",
      "average acc on valid: 95.5\n"
     ]
    }
   ],
   "source": [
    "for b in batch_size:\n",
    "    for l in learning_rate:\n",
    "        for a in activation_function:\n",
    "            for u in units_in_each_hidden_layer:\n",
    "                print \"b: {}, l: {}, a: {}, u: {}\".format(b, l, a, u)\n",
    "                net = NN.create_NN(domain, b, l, a, u)\n",
    "                acc1 = []\n",
    "                acc2 = []\n",
    "                for i in range(fold):\n",
    "                    x_train, x_valid = k_fold(training_data, fold, i)\n",
    "                    acc1.append(net.train(x_train))\n",
    "                    acc2.append(net.evaluate(x_valid))\n",
    "                print \"average acc on train: {}\".format(1.0*sum(acc1)/len(acc1))\n",
    "                print \"average acc on valid: {}\".format(1.0*sum(acc2)/len(acc2))\n"
   ]
  },
  {
   "cell_type": "code",
   "execution_count": 5,
   "metadata": {
    "collapsed": false
   },
   "outputs": [
    {
     "name": "stdout",
     "output_type": "stream",
     "text": [
      "train: 100.0\n",
      "evaluate: 100.0\n"
     ]
    }
   ],
   "source": [
    "net = NN.create_NN(domain, 10, 0.1, 'tanh', 10)\n",
    "print \"train: {}\".format(net.train(training_data))\n",
    "print \"evaluate: {}\".format(net.evaluate(test_data))"
   ]
  },
  {
   "cell_type": "code",
   "execution_count": 6,
   "metadata": {
    "collapsed": false
   },
   "outputs": [
    {
     "name": "stdout",
     "output_type": "stream",
     "text": [
      "evaluate: 100.0\n"
     ]
    }
   ],
   "source": [
    "net = NN.create_NN(domain, 10, 0.1, 'tanh', 10)\n",
    "net_curve = [i[-1] for i in net.train_with_learning_curve(training_data)]\n",
    "print \"evaluate: {}\".format(net.evaluate(test_data))"
   ]
  },
  {
   "cell_type": "code",
   "execution_count": 7,
   "metadata": {
    "collapsed": false
   },
   "outputs": [
    {
     "name": "stdout",
     "output_type": "stream",
     "text": [
      "perceptron train: 0.55125\n",
      "perceptron evaluate: 0.495\n"
     ]
    }
   ],
   "source": [
    "p = perceptron.Perceptron(data_dim)\n",
    "print \"perceptron train: {}\".format(p.train(training_data))\n",
    "print \"perceptron evaluate: {}\".format(p.evaluate(test_data))"
   ]
  },
  {
   "cell_type": "code",
   "execution_count": 9,
   "metadata": {
    "collapsed": false
   },
   "outputs": [
    {
     "name": "stdout",
     "output_type": "stream",
     "text": [
      "perceptron learning curve evaluate: 0.495\n"
     ]
    }
   ],
   "source": [
    "p = perceptron.Perceptron(data_dim)\n",
    "p_curve = [i[-1]*100 for i in p.train_with_learning_curve(training_data)]\n",
    "print \"perceptron learning curve evaluate: {}\".format(p.evaluate(test_data))"
   ]
  },
  {
   "cell_type": "code",
   "execution_count": 12,
   "metadata": {
    "collapsed": false
   },
   "outputs": [
    {
     "data": {
      "image/png": "[encoded data removed]",
      "text/plain": [
       "<matplotlib.figure.Figure at 0x10d2850d0>"
      ]
     },
     "metadata": {},
     "output_type": "display_data"
    }
   ],
   "source": [
    "plt.gca().set_color_cycle(['red', 'green'])\n",
    "\n",
    "\n",
    "plt.plot(net_curve)\n",
    "plt.plot(p_curve)\n",
    "\n",
    "plt.legend(['NN with learning curve', 'perceptron with learning curve'],\n",
    "           loc='upper right', prop={'size':10})\n",
    "plt.title('Learning curve')\n",
    "plt.ylabel('Accuracy')\n",
    "plt.xlabel('Iterations')\n",
    "plt.ylim((40,120))\n",
    "plt.grid()\n",
    "plt.show()"
   ]
  },
  {
   "cell_type": "code",
   "execution_count": null,
   "metadata": {
    "collapsed": true
   },
   "outputs": [],
   "source": []
  }
 ],
 "metadata": {
  "anaconda-cloud": {},
  "kernelspec": {
   "display_name": "Python [py27]",
   "language": "python",
   "name": "Python [py27]"
  },
  "language_info": {
   "codemirror_mode": {
    "name": "ipython",
    "version": 2
   },
   "file_extension": ".py",
   "mimetype": "text/x-python",
   "name": "python",
   "nbconvert_exporter": "python",
   "pygments_lexer": "ipython2",
   "version": "2.7.12"
  }
 },
 "nbformat": 4,
 "nbformat_minor": 0
}

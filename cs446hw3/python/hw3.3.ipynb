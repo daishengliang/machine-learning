{
 "cells": [
  {
   "cell_type": "markdown",
   "metadata": {},
   "source": [
    "## Use online learning algorithms as batch learning algorithms\n"
   ]
  },
  {
   "cell_type": "code",
   "execution_count": 1,
   "metadata": {
    "collapsed": true
   },
   "outputs": [],
   "source": [
    "from add_noise import add_noise\n",
    "from gen import gen\n",
    "import numpy as np\n",
    "import math\n",
    "import matplotlib.pyplot as plt"
   ]
  },
  {
   "cell_type": "code",
   "execution_count": 2,
   "metadata": {
    "collapsed": true
   },
   "outputs": [],
   "source": [
    "def perceptron(x, y):\n",
    "    eta = 1\n",
    "    m, n = x.shape\n",
    "    w = np.zeros(n)\n",
    "    theta = 0\n",
    "    for i in range(20):\n",
    "        for j in range(m):\n",
    "            if (np.dot(w, x[j, :]) + theta) * y[j] <= 0:\n",
    "                w += eta * y[j] * x[j, :]\n",
    "                theta += eta * y[j]\n",
    "    return w, theta\n",
    "\n",
    "def perceptron_margin(x, y, eta):\n",
    "    m, n = x.shape\n",
    "    w = np.zeros(n)\n",
    "    theta = 0\n",
    "    for i in range(20):\n",
    "        for j in range(m):\n",
    "            if (np.dot(w, x[j, :]) + theta) * y[j] <= 1:\n",
    "                w += eta * y[j] * x[j, :]\n",
    "                theta += eta * y[j]\n",
    "    return w, theta\n",
    "\n",
    "def winnow(x, y, alpha):\n",
    "    m, n = x.shape\n",
    "    w = np.ones(n)\n",
    "    theta = -n\n",
    "    for i in range(20):\n",
    "        for j in range(m):\n",
    "            if (np.dot(w, x[j, :]) + theta) * y[j] <= 0:\n",
    "                for k in range(n):\n",
    "                    w[k] = w[k] * alpha**(y[j]*x[j, k])\n",
    "    return w, theta\n",
    "\n",
    "def winnow_margin(x, y, alpha, gamma):\n",
    "    m, n = x.shape\n",
    "    w = np.ones(n)\n",
    "    theta = -n\n",
    "    for i in range(20):\n",
    "        for j in range(m):\n",
    "            if (np.dot(w, x[j, :]) + theta) * y[j] <= gamma:\n",
    "                for k in range(n):\n",
    "                    w[k] = w[k] * alpha**(y[j]*x[j, k])\n",
    "    return w, theta\n",
    "\n",
    "def adagrad(x, y, eta):\n",
    "    m, n = x.shape\n",
    "    w = np.append(np.ones(n), [-n])\n",
    "    G = np.zeros(n+1)\n",
    "\n",
    "    for i in range(20):\n",
    "        for j in range(m):\n",
    "            if (np.dot(w[:n], x[j, :]) + w[n]) * y[j] <= 1:\n",
    "                # that gradient is -yx, and for $\\theta$, it is always -y.\n",
    "                g = np.append(-y[j] * x[j, :], -y[j])\n",
    "                G += np.square(g)\n",
    "                for k in range(n+1):\n",
    "                    if G[k] != 0:\n",
    "                        w[k] = w[k] - eta * g[k] / np.sqrt(G[k])\n",
    "    return w[:n], w[n]\n",
    "\n",
    "def accuracy(w, theta, x, y):\n",
    "    correct = 0\n",
    "    m, _ = x.shape\n",
    "    for i in range(m):\n",
    "        if (np.dot(w, x[i, :]) + theta) * y[i] >=0:\n",
    "            correct += 1\n",
    "    return 1.0*correct/m\n",
    "\n"
   ]
  },
  {
   "cell_type": "code",
   "execution_count": 4,
   "metadata": {
    "collapsed": true
   },
   "outputs": [],
   "source": [
    "perceptron_params = [1.5,0.25,0.03,0.005,0.001]\n",
    "winnow_params = [1.1,1.01,1.005,1.0005,1.0001]\n",
    "winnow_margin_params1 = [1.1,1.01,1.005,1.0005,1.0001]\n",
    "winnow_margin_params2 = [2.0,0.3,0.04,0.006,0.001]\n",
    "adagrad_params = [1.5,0.25,0.03,0.005,0.001]"
   ]
  },
  {
   "cell_type": "code",
   "execution_count": 5,
   "metadata": {
    "collapsed": true
   },
   "outputs": [],
   "source": [
    "train_y, train_x = [], []\n",
    "test_y, test_x = [], []\n",
    "\n",
    "yTrain,xTrain = gen(10,100,1000,50000,True)\n",
    "train_y.append(yTrain)\n",
    "train_x.append(xTrain)\n",
    "\n",
    "yTest,xTest = gen(10,100,1000,10000,False)\n",
    "test_y.append(yTest)\n",
    "test_x.append(xTest)\n",
    "\n",
    "\n",
    "yTrain,xTrain = gen(10,500,1000,50000,True)\n",
    "train_y.append(yTrain)\n",
    "train_x.append(xTrain)\n",
    "\n",
    "yTest,xTest = gen(10,500,1000,10000,False)\n",
    "test_y.append(yTest)\n",
    "test_x.append(xTest)\n",
    "\n",
    "yTrain,xTrain = gen(10,1000,1000,50000,True)\n",
    "train_y.append(yTrain)\n",
    "train_x.append(xTrain)\n",
    "\n",
    "yTest,xTest = gen(10,1000,1000,10000,False)\n",
    "test_y.append(yTest)\n",
    "test_x.append(xTest)"
   ]
  },
  {
   "cell_type": "code",
   "execution_count": 6,
   "metadata": {
    "collapsed": false
   },
   "outputs": [
    {
     "name": "stdout",
     "output_type": "stream",
     "text": [
      "Perceptron : m = 100, accuracy = 0.7446\n",
      "Perceptron : m = 500, accuracy = 0.593\n",
      "Perceptron : m = 1000, accuracy = 0.7352\n"
     ]
    }
   ],
   "source": [
    "m = [100, 500, 1000]\n",
    "for i in range(3):\n",
    "    w,theta = perceptron(train_x[i][:5000,:], train_y[i][:5000])\n",
    "    acc = accuracy(w,theta,train_x[i][5000:10000,:],train_y[i][5000:10000])\n",
    "    print(\"Perceptron : m = {}, accuracy = {}\".format(m[i], acc))"
   ]
  },
  {
   "cell_type": "code",
   "execution_count": 7,
   "metadata": {
    "collapsed": false
   },
   "outputs": [
    {
     "name": "stdout",
     "output_type": "stream",
     "text": [
      "Perceptron margin : m = 100, eta = 1.5 accuracy = 0.7446\n",
      "Perceptron margin : m = 100, eta = 0.25 accuracy = 0.7374\n",
      "Perceptron margin : m = 100, eta = 0.03 accuracy = 0.736\n",
      "Perceptron margin : m = 100, eta = 0.005 accuracy = 0.7104\n",
      "Perceptron margin : m = 100, eta = 0.001 accuracy = 0.6816\n",
      "Perceptron margin : m = 500, eta = 1.5 accuracy = 0.593\n",
      "Perceptron margin : m = 500, eta = 0.25 accuracy = 0.5532\n",
      "Perceptron margin : m = 500, eta = 0.03 accuracy = 0.571\n",
      "Perceptron margin : m = 500, eta = 0.005 accuracy = 0.6096\n",
      "Perceptron margin : m = 500, eta = 0.001 accuracy = 0.5492\n",
      "Perceptron margin : m = 1000, eta = 1.5 accuracy = 0.7352\n",
      "Perceptron margin : m = 1000, eta = 0.25 accuracy = 0.7476\n",
      "Perceptron margin : m = 1000, eta = 0.03 accuracy = 0.7328\n",
      "Perceptron margin : m = 1000, eta = 0.005 accuracy = 0.63\n",
      "Perceptron margin : m = 1000, eta = 0.001 accuracy = 0.5752\n"
     ]
    }
   ],
   "source": [
    "for i in range(3):\n",
    "    for eta in perceptron_params:\n",
    "        w,theta = perceptron_margin(train_x[i][:5000,:], train_y[i][:5000], eta)\n",
    "        acc = accuracy(w,theta,train_x[i][5000:10000,:],train_y[i][5000:10000])\n",
    "        print(\"Perceptron margin : m = {}, eta = {} accuracy = {}\".format(m[i], eta, acc))"
   ]
  },
  {
   "cell_type": "code",
   "execution_count": 8,
   "metadata": {
    "collapsed": false
   },
   "outputs": [
    {
     "name": "stdout",
     "output_type": "stream",
     "text": [
      "Winnow : m = 100, alpha = 1.1 accuracy = 0.8702\n",
      "Winnow : m = 100, alpha = 1.01 accuracy = 0.748\n",
      "Winnow : m = 100, alpha = 1.005 accuracy = 0.5938\n",
      "Winnow : m = 100, alpha = 1.0005 accuracy = 0.5118\n",
      "Winnow : m = 100, alpha = 1.0001 accuracy = 0.5076\n",
      "Winnow : m = 500, alpha = 1.1 accuracy = 0.786\n",
      "Winnow : m = 500, alpha = 1.01 accuracy = 0.5286\n",
      "Winnow : m = 500, alpha = 1.005 accuracy = 0.5112\n",
      "Winnow : m = 500, alpha = 1.0005 accuracy = 0.5058\n",
      "Winnow : m = 500, alpha = 1.0001 accuracy = 0.5086\n",
      "Winnow : m = 1000, alpha = 1.1 accuracy = 0.7386\n",
      "Winnow : m = 1000, alpha = 1.01 accuracy = 0.6462\n",
      "Winnow : m = 1000, alpha = 1.005 accuracy = 0.4992\n",
      "Winnow : m = 1000, alpha = 1.0005 accuracy = 0.4992\n",
      "Winnow : m = 1000, alpha = 1.0001 accuracy = 0.4992\n"
     ]
    }
   ],
   "source": [
    "for i in range(3):\n",
    "    for alpha in winnow_params:\n",
    "        w,theta = winnow(train_x[i][:5000,:], train_y[i][:5000], alpha)\n",
    "        acc = accuracy(w,theta,train_x[i][5000:10000,:],train_y[i][5000:10000])\n",
    "        print(\"Winnow : m = {}, alpha = {} accuracy = {}\".format(m[i], alpha, acc))"
   ]
  },
  {
   "cell_type": "code",
   "execution_count": 9,
   "metadata": {
    "collapsed": false
   },
   "outputs": [
    {
     "name": "stdout",
     "output_type": "stream",
     "text": [
      "Winnow : m = 100, alpha = 1.1, gamma = 2.0 accuracy = 0.8676\n",
      "Winnow : m = 100, alpha = 1.1, gamma = 0.3 accuracy = 0.8786\n",
      "Winnow : m = 100, alpha = 1.1, gamma = 0.04 accuracy = 0.8642\n",
      "Winnow : m = 100, alpha = 1.1, gamma = 0.006 accuracy = 0.8768\n",
      "Winnow : m = 100, alpha = 1.1, gamma = 0.001 accuracy = 0.8702\n",
      "Winnow : m = 100, alpha = 1.01, gamma = 2.0 accuracy = 0.7654\n",
      "Winnow : m = 100, alpha = 1.01, gamma = 0.3 accuracy = 0.7492\n",
      "Winnow : m = 100, alpha = 1.01, gamma = 0.04 accuracy = 0.7518\n",
      "Winnow : m = 100, alpha = 1.01, gamma = 0.006 accuracy = 0.7522\n",
      "Winnow : m = 100, alpha = 1.01, gamma = 0.001 accuracy = 0.751\n",
      "Winnow : m = 100, alpha = 1.005, gamma = 2.0 accuracy = 0.6002\n",
      "Winnow : m = 100, alpha = 1.005, gamma = 0.3 accuracy = 0.5942\n",
      "Winnow : m = 100, alpha = 1.005, gamma = 0.04 accuracy = 0.5946\n",
      "Winnow : m = 100, alpha = 1.005, gamma = 0.006 accuracy = 0.5948\n",
      "Winnow : m = 100, alpha = 1.005, gamma = 0.001 accuracy = 0.5964\n",
      "Winnow : m = 100, alpha = 1.0005, gamma = 2.0 accuracy = 0.5118\n",
      "Winnow : m = 100, alpha = 1.0005, gamma = 0.3 accuracy = 0.5114\n",
      "Winnow : m = 100, alpha = 1.0005, gamma = 0.04 accuracy = 0.5112\n",
      "Winnow : m = 100, alpha = 1.0005, gamma = 0.006 accuracy = 0.5116\n",
      "Winnow : m = 100, alpha = 1.0005, gamma = 0.001 accuracy = 0.5118\n",
      "Winnow : m = 100, alpha = 1.0001, gamma = 2.0 accuracy = 0.5084\n",
      "Winnow : m = 100, alpha = 1.0001, gamma = 0.3 accuracy = 0.5078\n",
      "Winnow : m = 100, alpha = 1.0001, gamma = 0.04 accuracy = 0.5078\n",
      "Winnow : m = 100, alpha = 1.0001, gamma = 0.006 accuracy = 0.5072\n",
      "Winnow : m = 100, alpha = 1.0001, gamma = 0.001 accuracy = 0.5072\n",
      "Winnow : m = 500, alpha = 1.1, gamma = 2.0 accuracy = 0.7696\n",
      "Winnow : m = 500, alpha = 1.1, gamma = 0.3 accuracy = 0.7704\n",
      "Winnow : m = 500, alpha = 1.1, gamma = 0.04 accuracy = 0.7642\n",
      "Winnow : m = 500, alpha = 1.1, gamma = 0.006 accuracy = 0.7744\n",
      "Winnow : m = 500, alpha = 1.1, gamma = 0.001 accuracy = 0.7798\n",
      "Winnow : m = 500, alpha = 1.01, gamma = 2.0 accuracy = 0.5276\n",
      "Winnow : m = 500, alpha = 1.01, gamma = 0.3 accuracy = 0.5296\n",
      "Winnow : m = 500, alpha = 1.01, gamma = 0.04 accuracy = 0.5294\n",
      "Winnow : m = 500, alpha = 1.01, gamma = 0.006 accuracy = 0.528\n",
      "Winnow : m = 500, alpha = 1.01, gamma = 0.001 accuracy = 0.5298\n",
      "Winnow : m = 500, alpha = 1.005, gamma = 2.0 accuracy = 0.5134\n",
      "Winnow : m = 500, alpha = 1.005, gamma = 0.3 accuracy = 0.5126\n",
      "Winnow : m = 500, alpha = 1.005, gamma = 0.04 accuracy = 0.5122\n",
      "Winnow : m = 500, alpha = 1.005, gamma = 0.006 accuracy = 0.5128\n",
      "Winnow : m = 500, alpha = 1.005, gamma = 0.001 accuracy = 0.5144\n",
      "Winnow : m = 500, alpha = 1.0005, gamma = 2.0 accuracy = 0.5052\n",
      "Winnow : m = 500, alpha = 1.0005, gamma = 0.3 accuracy = 0.5056\n",
      "Winnow : m = 500, alpha = 1.0005, gamma = 0.04 accuracy = 0.5052\n",
      "Winnow : m = 500, alpha = 1.0005, gamma = 0.006 accuracy = 0.505\n",
      "Winnow : m = 500, alpha = 1.0005, gamma = 0.001 accuracy = 0.5052\n",
      "Winnow : m = 500, alpha = 1.0001, gamma = 2.0 accuracy = 0.5094\n",
      "Winnow : m = 500, alpha = 1.0001, gamma = 0.3 accuracy = 0.5084\n",
      "Winnow : m = 500, alpha = 1.0001, gamma = 0.04 accuracy = 0.5088\n",
      "Winnow : m = 500, alpha = 1.0001, gamma = 0.006 accuracy = 0.5086\n",
      "Winnow : m = 500, alpha = 1.0001, gamma = 0.001 accuracy = 0.5086\n",
      "Winnow : m = 1000, alpha = 1.1, gamma = 2.0 accuracy = 0.7384\n",
      "Winnow : m = 1000, alpha = 1.1, gamma = 0.3 accuracy = 0.7374\n",
      "Winnow : m = 1000, alpha = 1.1, gamma = 0.04 accuracy = 0.739\n",
      "Winnow : m = 1000, alpha = 1.1, gamma = 0.006 accuracy = 0.7408\n",
      "Winnow : m = 1000, alpha = 1.1, gamma = 0.001 accuracy = 0.7386\n",
      "Winnow : m = 1000, alpha = 1.01, gamma = 2.0 accuracy = 0.6452\n",
      "Winnow : m = 1000, alpha = 1.01, gamma = 0.3 accuracy = 0.6464\n",
      "Winnow : m = 1000, alpha = 1.01, gamma = 0.04 accuracy = 0.6464\n",
      "Winnow : m = 1000, alpha = 1.01, gamma = 0.006 accuracy = 0.6462\n",
      "Winnow : m = 1000, alpha = 1.01, gamma = 0.001 accuracy = 0.6462\n",
      "Winnow : m = 1000, alpha = 1.005, gamma = 2.0 accuracy = 0.4992\n",
      "Winnow : m = 1000, alpha = 1.005, gamma = 0.3 accuracy = 0.4992\n",
      "Winnow : m = 1000, alpha = 1.005, gamma = 0.04 accuracy = 0.4992\n",
      "Winnow : m = 1000, alpha = 1.005, gamma = 0.006 accuracy = 0.4992\n",
      "Winnow : m = 1000, alpha = 1.005, gamma = 0.001 accuracy = 0.4992\n",
      "Winnow : m = 1000, alpha = 1.0005, gamma = 2.0 accuracy = 0.4992\n",
      "Winnow : m = 1000, alpha = 1.0005, gamma = 0.3 accuracy = 0.4992\n",
      "Winnow : m = 1000, alpha = 1.0005, gamma = 0.04 accuracy = 0.4992\n",
      "Winnow : m = 1000, alpha = 1.0005, gamma = 0.006 accuracy = 0.4992\n",
      "Winnow : m = 1000, alpha = 1.0005, gamma = 0.001 accuracy = 0.4992\n",
      "Winnow : m = 1000, alpha = 1.0001, gamma = 2.0 accuracy = 0.4992\n",
      "Winnow : m = 1000, alpha = 1.0001, gamma = 0.3 accuracy = 0.4992\n",
      "Winnow : m = 1000, alpha = 1.0001, gamma = 0.04 accuracy = 0.4992\n",
      "Winnow : m = 1000, alpha = 1.0001, gamma = 0.006 accuracy = 0.4992\n",
      "Winnow : m = 1000, alpha = 1.0001, gamma = 0.001 accuracy = 0.4992\n"
     ]
    }
   ],
   "source": [
    "for i in range(3):\n",
    "    for alpha in winnow_margin_params1:\n",
    "        for gamma in winnow_margin_params2:\n",
    "            w,theta = winnow_margin(train_x[i][:5000,:], train_y[i][:5000], alpha, gamma)\n",
    "            acc = accuracy(w,theta,train_x[i][5000:10000,:],train_y[i][5000:10000])\n",
    "            print(\"Winnow : m = {}, alpha = {}, gamma = {} accuracy = {}\".format(m[i], alpha, gamma, acc))"
   ]
  },
  {
   "cell_type": "code",
   "execution_count": 10,
   "metadata": {
    "collapsed": false
   },
   "outputs": [
    {
     "name": "stdout",
     "output_type": "stream",
     "text": [
      "adagrad : m = 100, eta = 1.5, accuracy = 0.6764\n",
      "adagrad : m = 100, eta = 0.25, accuracy = 0.556\n",
      "adagrad : m = 100, eta = 0.03, accuracy = 0.5168\n",
      "adagrad : m = 100, eta = 0.005, accuracy = 0.5192\n",
      "adagrad : m = 100, eta = 0.001, accuracy = 0.4992\n",
      "adagrad : m = 500, eta = 1.5, accuracy = 0.5726\n",
      "adagrad : m = 500, eta = 0.25, accuracy = 0.5248\n",
      "adagrad : m = 500, eta = 0.03, accuracy = 0.5142\n",
      "adagrad : m = 500, eta = 0.005, accuracy = 0.5008\n",
      "adagrad : m = 500, eta = 0.001, accuracy = 0.5008\n",
      "adagrad : m = 1000, eta = 1.5, accuracy = 0.7672\n",
      "adagrad : m = 1000, eta = 0.25, accuracy = 0.4992\n",
      "adagrad : m = 1000, eta = 0.03, accuracy = 0.4992\n",
      "adagrad : m = 1000, eta = 0.005, accuracy = 0.4992\n",
      "adagrad : m = 1000, eta = 0.001, accuracy = 0.4992\n"
     ]
    }
   ],
   "source": [
    "for i in range(3):\n",
    "    for eta in adagrad_params:\n",
    "        w,theta = adagrad(train_x[i][:5000,:], train_y[i][:5000], eta)\n",
    "        acc = accuracy(w,theta,train_x[i][5000:10000,:],train_y[i][5000:10000])\n",
    "        print(\"adagrad : m = {}, eta = {}, accuracy = {}\".format(m[i], eta, acc))"
   ]
  },
  {
   "cell_type": "code",
   "execution_count": 11,
   "metadata": {
    "collapsed": true
   },
   "outputs": [],
   "source": [
    "perceptron_params = [1.5,0.05,0.25];\n",
    "winnow_params = [1.1,1.1,1.1];\n",
    "winnow_margin_params1 = [1.1,1.1,1.1];\n",
    "winnow_margin_params2 = [0.3,0.01,0.006];\n",
    "adagrad_params = [1.5,1.5,1.5];"
   ]
  },
  {
   "cell_type": "code",
   "execution_count": 12,
   "metadata": {
    "collapsed": false
   },
   "outputs": [
    {
     "name": "stdout",
     "output_type": "stream",
     "text": [
      "Perceptron : m = 100, accuracy = 0.9805\n",
      "Perceptron : m = 500, accuracy = 0.9079\n",
      "Perceptron : m = 1000, accuracy = 0.7538\n"
     ]
    }
   ],
   "source": [
    "for i in range(3):\n",
    "    w,theta = perceptron(train_x[i], train_y[i])\n",
    "    acc = accuracy(w,theta,test_x[i],test_y[i])\n",
    "    print(\"Perceptron : m = {}, accuracy = {}\".format(m[i], acc))\n"
   ]
  },
  {
   "cell_type": "code",
   "execution_count": 13,
   "metadata": {
    "collapsed": false
   },
   "outputs": [
    {
     "name": "stdout",
     "output_type": "stream",
     "text": [
      "Perceptron_margin : m = 100, accuracy = 0.9805\n",
      "Perceptron_margin : m = 500, accuracy = 0.8419\n",
      "Perceptron_margin : m = 1000, accuracy = 0.8264\n"
     ]
    }
   ],
   "source": [
    "for i in range(3):\n",
    "    w,theta = perceptron_margin(train_x[i], train_y[i], perceptron_params[i])\n",
    "    acc = accuracy(w,theta,test_x[i],test_y[i])\n",
    "    print(\"Perceptron_margin : m = {}, accuracy = {}\".format(m[i], acc))\n",
    "\n"
   ]
  },
  {
   "cell_type": "code",
   "execution_count": 14,
   "metadata": {
    "collapsed": false
   },
   "outputs": [
    {
     "name": "stdout",
     "output_type": "stream",
     "text": [
      "Winnow : m = 100, accuracy = 0.948\n",
      "Winnow : m = 500, accuracy = 0.8775\n",
      "Winnow : m = 1000, accuracy = 0.7274\n"
     ]
    }
   ],
   "source": [
    "for i in range(3):\n",
    "    w,theta = winnow(train_x[i], train_y[i], winnow_params[i])\n",
    "    acc = accuracy(w,theta,test_x[i],test_y[i])\n",
    "    print(\"Winnow : m = {}, accuracy = {}\".format(m[i], acc))\n",
    "\n"
   ]
  },
  {
   "cell_type": "code",
   "execution_count": 15,
   "metadata": {
    "collapsed": false
   },
   "outputs": [
    {
     "name": "stdout",
     "output_type": "stream",
     "text": [
      "Winnow margin : m = 100, accuracy = 0.9516\n",
      "Winnow margin : m = 500, accuracy = 0.9084\n",
      "Winnow margin : m = 1000, accuracy = 0.7146\n"
     ]
    }
   ],
   "source": [
    "for i in range(3):\n",
    "    w,theta = winnow_margin(train_x[i], train_y[i], winnow_margin_params1[i], winnow_margin_params2[i])\n",
    "    acc = accuracy(w,theta,test_x[i],test_y[i])\n",
    "    print(\"Winnow margin : m = {}, accuracy = {}\".format(m[i], acc))\n",
    "\n"
   ]
  },
  {
   "cell_type": "code",
   "execution_count": 16,
   "metadata": {
    "collapsed": false
   },
   "outputs": [
    {
     "name": "stdout",
     "output_type": "stream",
     "text": [
      "Adagrad : m = 100, accuracy = 0.9323\n",
      "Adagrad : m = 500, accuracy = 0.7716\n",
      "Adagrad : m = 1000, accuracy = 0.8251\n"
     ]
    }
   ],
   "source": [
    "for i in range(3):\n",
    "    w,theta = adagrad(train_x[i], train_y[i], adagrad_params[i])\n",
    "    acc = accuracy(w,theta,test_x[i],test_y[i])\n",
    "    print(\"Adagrad : m = {}, accuracy = {}\".format(m[i], acc))\n",
    "\n"
   ]
  },
  {
   "cell_type": "code",
   "execution_count": null,
   "metadata": {
    "collapsed": true
   },
   "outputs": [],
   "source": []
  }
 ],
 "metadata": {
  "kernelspec": {
   "display_name": "Python [py27]",
   "language": "python",
   "name": "Python [py27]"
  },
  "language_info": {
   "codemirror_mode": {
    "name": "ipython",
    "version": 2
   },
   "file_extension": ".py",
   "mimetype": "text/x-python",
   "name": "python",
   "nbconvert_exporter": "python",
   "pygments_lexer": "ipython2",
   "version": "2.7.12"
  }
 },
 "nbformat": 4,
 "nbformat_minor": 0
}
